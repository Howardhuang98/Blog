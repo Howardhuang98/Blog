{
 "cells": [
  {
   "cell_type": "code",
   "execution_count": 1,
   "metadata": {
    "collapsed": true
   },
   "outputs": [],
   "source": [
    "import tensorflow as tf\n",
    "from tensorflow import keras\n",
    "from tensorflow.keras import Model,layers"
   ]
  },
  {
   "cell_type": "code",
   "execution_count": 5,
   "outputs": [
    {
     "name": "stdout",
     "output_type": "stream",
     "text": [
      "3\n"
     ]
    }
   ],
   "source": [
    "x = tf.random.normal(shape=(10,5,2))\n",
    "l = layers.LSTM(3,return_state=True,return_sequences=True)\n",
    "y = l(x)\n",
    "print(len(y))"
   ],
   "metadata": {
    "collapsed": false,
    "pycharm": {
     "name": "#%%\n"
    }
   }
  },
  {
   "cell_type": "code",
   "execution_count": 6,
   "outputs": [
    {
     "data": {
      "text/plain": "<tf.Tensor: shape=(10, 5, 3), dtype=float32, numpy=\narray([[[ 3.8708918e-02,  4.1584756e-02, -3.6329933e-02],\n        [-7.1250387e-02,  5.2860044e-02, -2.3552123e-01],\n        [-1.3097936e-01, -2.2312248e-02, -1.1449761e-01],\n        [-1.9440377e-01, -3.1389496e-01, -2.5832081e-01],\n        [-1.8912958e-01, -1.2416969e-01, -4.4191623e-01]],\n\n       [[-9.3448676e-02, -1.0338276e-01,  1.5760015e-01],\n        [-7.9817332e-02, -8.9850560e-02,  9.0807766e-02],\n        [-1.8789575e-01, -2.2709355e-01,  1.2666291e-01],\n        [-1.1977037e-01, -2.0177144e-01,  2.0030318e-01],\n        [ 7.5797281e-05, -1.7014679e-01,  2.2960816e-01]],\n\n       [[ 2.1523075e-02, -1.1040579e-02,  5.2094501e-02],\n        [ 7.8765444e-02,  2.3586262e-02,  4.0678937e-02],\n        [ 8.3083462e-04, -2.8345980e-02,  7.6365069e-02],\n        [ 1.0761195e-01, -3.7704840e-02,  1.6502917e-01],\n        [ 1.9031398e-01, -4.7985774e-02,  2.0762981e-01]],\n\n       [[-2.0386878e-02, -2.2632910e-02,  2.4447983e-02],\n        [-8.7065041e-02,  4.1314317e-03, -1.7699298e-01],\n        [-7.8113273e-02,  6.9718607e-02, -2.5361079e-01],\n        [-1.4794070e-01,  6.1035776e-03, -4.2648637e-01],\n        [-1.4612335e-01,  1.6869660e-01, -5.4742646e-01]],\n\n       [[ 5.6652658e-02, -2.0935740e-02,  1.0638746e-01],\n        [ 2.2487338e-01,  6.9834329e-02,  7.4067518e-02],\n        [-1.1651446e-02,  7.4167915e-02, -2.0238383e-01],\n        [-1.1136950e-01,  6.5908648e-02, -4.0253371e-01],\n        [-1.6264477e-01,  8.8556744e-02, -5.0048810e-01]],\n\n       [[-9.2053935e-02,  1.4949550e-02, -2.3526756e-01],\n        [ 4.6950087e-02,  2.6970139e-02, -3.2845825e-02],\n        [-7.4359648e-02,  7.7087574e-02, -3.0196089e-01],\n        [-1.3802716e-01,  7.6376900e-02, -3.7258551e-01],\n        [ 1.5609823e-02,  1.0757474e-01, -2.6390612e-01]],\n\n       [[-2.9992264e-02,  2.1499153e-03, -5.1034939e-02],\n        [-2.9252166e-02, -3.0898336e-02,  4.0724870e-02],\n        [ 1.5186259e-01,  8.5469753e-02,  1.0085627e-03],\n        [ 1.9534451e-01,  9.9404037e-02,  1.8093947e-02],\n        [ 1.1759202e-01,  1.2711674e-01, -6.2944271e-02]],\n\n       [[ 2.1593785e-01,  5.2855179e-02,  4.3930527e-02],\n        [ 1.8423490e-01,  3.4148913e-02,  9.7833253e-02],\n        [ 1.1013168e-01,  9.5502809e-02, -1.5882606e-02],\n        [ 2.1231782e-01,  5.1630639e-02,  1.0501704e-01],\n        [ 1.6946596e-01,  2.5346845e-02,  1.4161578e-01]],\n\n       [[-7.3537454e-02, -7.9197079e-02,  9.8228849e-02],\n        [-1.5897438e-01, -1.9109736e-01,  1.4168304e-01],\n        [-1.9027951e-01, -3.5524225e-01, -9.3498707e-02],\n        [-1.7695034e-01, -2.1258123e-01, -3.7327260e-01],\n        [-2.6927048e-01, -3.0773419e-01, -2.6983684e-01]],\n\n       [[ 1.9145791e-01, -3.4731019e-02,  1.6346173e-01],\n        [ 2.2062938e-01, -3.7346605e-02,  2.1530990e-01],\n        [-1.2486179e-02, -1.4910886e-01,  2.4953100e-01],\n        [ 1.1148575e-01, -1.2174733e-01,  2.7176473e-01],\n        [ 2.2125472e-01, -2.7218260e-02,  2.3525660e-01]]], dtype=float32)>"
     },
     "execution_count": 6,
     "metadata": {},
     "output_type": "execute_result"
    }
   ],
   "source": [
    "y[0]"
   ],
   "metadata": {
    "collapsed": false,
    "pycharm": {
     "name": "#%%\n"
    }
   }
  },
  {
   "cell_type": "code",
   "execution_count": 7,
   "outputs": [
    {
     "data": {
      "text/plain": "<tf.Tensor: shape=(10, 3), dtype=float32, numpy=\narray([[-1.8912958e-01, -1.2416969e-01, -4.4191623e-01],\n       [ 7.5797281e-05, -1.7014679e-01,  2.2960816e-01],\n       [ 1.9031398e-01, -4.7985774e-02,  2.0762981e-01],\n       [-1.4612335e-01,  1.6869660e-01, -5.4742646e-01],\n       [-1.6264477e-01,  8.8556744e-02, -5.0048810e-01],\n       [ 1.5609823e-02,  1.0757474e-01, -2.6390612e-01],\n       [ 1.1759202e-01,  1.2711674e-01, -6.2944271e-02],\n       [ 1.6946596e-01,  2.5346845e-02,  1.4161578e-01],\n       [-2.6927048e-01, -3.0773419e-01, -2.6983684e-01],\n       [ 2.2125472e-01, -2.7218260e-02,  2.3525660e-01]], dtype=float32)>"
     },
     "execution_count": 7,
     "metadata": {},
     "output_type": "execute_result"
    }
   ],
   "source": [
    "y[1]"
   ],
   "metadata": {
    "collapsed": false,
    "pycharm": {
     "name": "#%%\n"
    }
   }
  },
  {
   "cell_type": "code",
   "execution_count": 8,
   "outputs": [
    {
     "data": {
      "text/plain": "<tf.Tensor: shape=(10, 3), dtype=float32, numpy=\narray([[-5.2095050e-01, -2.2077858e-01, -8.5711968e-01],\n       [ 1.2613303e-04, -3.5879475e-01,  5.8383846e-01],\n       [ 3.1750843e-01, -1.1217545e-01,  5.6002247e-01],\n       [-4.2877680e-01,  3.1372049e-01, -1.2287310e+00],\n       [-4.8669201e-01,  1.5152885e-01, -1.2198131e+00],\n       [ 2.8815510e-02,  2.5001112e-01, -5.1494896e-01],\n       [ 2.6095080e-01,  2.7839413e-01, -1.2197147e-01],\n       [ 3.1919491e-01,  5.7777636e-02,  3.2909766e-01],\n       [-6.7481089e-01, -5.6105483e-01, -5.9711581e-01],\n       [ 4.2275739e-01, -6.4702474e-02,  5.0142342e-01]], dtype=float32)>"
     },
     "execution_count": 8,
     "metadata": {},
     "output_type": "execute_result"
    }
   ],
   "source": [
    "y[2]"
   ],
   "metadata": {
    "collapsed": false,
    "pycharm": {
     "name": "#%%\n"
    }
   }
  },
  {
   "cell_type": "markdown",
   "source": [
    "y[0]是输出的sequence，查看batch1 中的最后一个时间步\n"
   ],
   "metadata": {
    "collapsed": false,
    "pycharm": {
     "name": "#%% md\n"
    }
   }
  },
  {
   "cell_type": "code",
   "execution_count": 10,
   "outputs": [
    {
     "data": {
      "text/plain": "<tf.Tensor: shape=(3,), dtype=float32, numpy=array([-0.18912958, -0.12416969, -0.44191623], dtype=float32)>"
     },
     "execution_count": 10,
     "metadata": {},
     "output_type": "execute_result"
    }
   ],
   "source": [
    "y[0][0,4]"
   ],
   "metadata": {
    "collapsed": false,
    "pycharm": {
     "name": "#%%\n"
    }
   }
  },
  {
   "cell_type": "code",
   "execution_count": 11,
   "outputs": [
    {
     "data": {
      "text/plain": "<tf.Tensor: shape=(3,), dtype=float32, numpy=array([-0.18912958, -0.12416969, -0.44191623], dtype=float32)>"
     },
     "execution_count": 11,
     "metadata": {},
     "output_type": "execute_result"
    }
   ],
   "source": [
    "y[1][0]"
   ],
   "metadata": {
    "collapsed": false,
    "pycharm": {
     "name": "#%%\n"
    }
   }
  }
 ],
 "metadata": {
  "kernelspec": {
   "display_name": "Python 3",
   "language": "python",
   "name": "python3"
  },
  "language_info": {
   "codemirror_mode": {
    "name": "ipython",
    "version": 2
   },
   "file_extension": ".py",
   "mimetype": "text/x-python",
   "name": "python",
   "nbconvert_exporter": "python",
   "pygments_lexer": "ipython2",
   "version": "2.7.6"
  }
 },
 "nbformat": 4,
 "nbformat_minor": 0
}